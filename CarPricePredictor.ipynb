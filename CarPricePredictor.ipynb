{
  "metadata": {
    "kernelspec": {
      "language": "python",
      "display_name": "Python 3",
      "name": "python3"
    },
    "language_info": {
      "name": "python",
      "version": "3.10.13",
      "mimetype": "text/x-python",
      "codemirror_mode": {
        "name": "ipython",
        "version": 3
      },
      "pygments_lexer": "ipython3",
      "nbconvert_exporter": "python",
      "file_extension": ".py"
    },
    "kaggle": {
      "accelerator": "none",
      "dataSources": [
        {
          "sourceId": 8941010,
          "sourceType": "datasetVersion",
          "datasetId": 5379848
        }
      ],
      "dockerImageVersionId": 30746,
      "isInternetEnabled": false,
      "language": "python",
      "sourceType": "notebook",
      "isGpuEnabled": false
    },
    "colab": {
      "name": "CarPricePredictor",
      "provenance": []
    }
  },
  "nbformat_minor": 0,
  "nbformat": 4,
  "cells": [
    {
      "source": [
        "\n",
        "# IMPORTANT: RUN THIS CELL IN ORDER TO IMPORT YOUR KAGGLE DATA SOURCES\n",
        "# TO THE CORRECT LOCATION (/kaggle/input) IN YOUR NOTEBOOK,\n",
        "# THEN FEEL FREE TO DELETE THIS CELL.\n",
        "# NOTE: THIS NOTEBOOK ENVIRONMENT DIFFERS FROM KAGGLE'S PYTHON\n",
        "# ENVIRONMENT SO THERE MAY BE MISSING LIBRARIES USED BY YOUR\n",
        "# NOTEBOOK.\n",
        "\n",
        "import os\n",
        "import sys\n",
        "from tempfile import NamedTemporaryFile\n",
        "from urllib.request import urlopen\n",
        "from urllib.parse import unquote, urlparse\n",
        "from urllib.error import HTTPError\n",
        "from zipfile import ZipFile\n",
        "import tarfile\n",
        "import shutil\n",
        "\n",
        "CHUNK_SIZE = 40960\n",
        "DATA_SOURCE_MAPPING = 'hyundaikialadacars:https%3A%2F%2Fstorage.googleapis.com%2Fkaggle-data-sets%2F5379848%2F8941010%2Fbundle%2Farchive.zip%3FX-Goog-Algorithm%3DGOOG4-RSA-SHA256%26X-Goog-Credential%3Dgcp-kaggle-com%2540kaggle-161607.iam.gserviceaccount.com%252F20240712%252Fauto%252Fstorage%252Fgoog4_request%26X-Goog-Date%3D20240712T221539Z%26X-Goog-Expires%3D259200%26X-Goog-SignedHeaders%3Dhost%26X-Goog-Signature%3D10bdb5b8d4bc40dde90c8aa0ba8aec7c39a50775f6e1d326194fd251137e27b86324db4fa985a26d4e9fed656515e96d1dac0990fdd39711116f3038cde267722e4834eb6cb35f3352b294c0b85de3041d57e36b10e53fb74f7a888f8d8f88ddcbf5a8f6655d2a6d36860e7d3005ee3adc9d902d8cafc5b8295906da7a604695150900713c6e370bd738712db65f49686b64605fc550191c4aa8c8239cc7b2ed6fdacf45bc10c8b59e08f6abfee68104995f4771a23da9a2ccb4c13e2f157c1d5b269759bce934b8497c938804d4872e16ad37bb8d6f8fd441c75122ab3178a17f9eb54db6d748c53d2222332de32528c43c651733d073df6dd27d5e799358dd'\n",
        "\n",
        "KAGGLE_INPUT_PATH='/kaggle/input'\n",
        "KAGGLE_WORKING_PATH='/kaggle/working'\n",
        "KAGGLE_SYMLINK='kaggle'\n",
        "\n",
        "!umount /kaggle/input/ 2> /dev/null\n",
        "shutil.rmtree('/kaggle/input', ignore_errors=True)\n",
        "os.makedirs(KAGGLE_INPUT_PATH, 0o777, exist_ok=True)\n",
        "os.makedirs(KAGGLE_WORKING_PATH, 0o777, exist_ok=True)\n",
        "\n",
        "try:\n",
        "  os.symlink(KAGGLE_INPUT_PATH, os.path.join(\"..\", 'input'), target_is_directory=True)\n",
        "except FileExistsError:\n",
        "  pass\n",
        "try:\n",
        "  os.symlink(KAGGLE_WORKING_PATH, os.path.join(\"..\", 'working'), target_is_directory=True)\n",
        "except FileExistsError:\n",
        "  pass\n",
        "\n",
        "for data_source_mapping in DATA_SOURCE_MAPPING.split(','):\n",
        "    directory, download_url_encoded = data_source_mapping.split(':')\n",
        "    download_url = unquote(download_url_encoded)\n",
        "    filename = urlparse(download_url).path\n",
        "    destination_path = os.path.join(KAGGLE_INPUT_PATH, directory)\n",
        "    try:\n",
        "        with urlopen(download_url) as fileres, NamedTemporaryFile() as tfile:\n",
        "            total_length = fileres.headers['content-length']\n",
        "            print(f'Downloading {directory}, {total_length} bytes compressed')\n",
        "            dl = 0\n",
        "            data = fileres.read(CHUNK_SIZE)\n",
        "            while len(data) > 0:\n",
        "                dl += len(data)\n",
        "                tfile.write(data)\n",
        "                done = int(50 * dl / int(total_length))\n",
        "                sys.stdout.write(f\"\\r[{'=' * done}{' ' * (50-done)}] {dl} bytes downloaded\")\n",
        "                sys.stdout.flush()\n",
        "                data = fileres.read(CHUNK_SIZE)\n",
        "            if filename.endswith('.zip'):\n",
        "              with ZipFile(tfile) as zfile:\n",
        "                zfile.extractall(destination_path)\n",
        "            else:\n",
        "              with tarfile.open(tfile.name) as tarfile:\n",
        "                tarfile.extractall(destination_path)\n",
        "            print(f'\\nDownloaded and uncompressed: {directory}')\n",
        "    except HTTPError as e:\n",
        "        print(f'Failed to load (likely expired) {download_url} to path {destination_path}')\n",
        "        continue\n",
        "    except OSError as e:\n",
        "        print(f'Failed to load {download_url} to path {destination_path}')\n",
        "        continue\n",
        "\n",
        "print('Data source import complete.')\n"
      ],
      "metadata": {
        "id": "FNiSDb8HBDY1"
      },
      "cell_type": "code",
      "outputs": [],
      "execution_count": null
    },
    {
      "cell_type": "code",
      "source": [
        "# This Python 3 environment comes with many helpful analytics libraries installed\n",
        "# It is defined by the kaggle/python Docker image: https://github.com/kaggle/docker-python\n",
        "# For example, here's several helpful packages to load\n",
        "\n",
        "import numpy as np # linear algebra\n",
        "import joblib\n",
        "import pandas as pd # data processing, CSV file I/O (e.g. pd.read_csv)\n",
        "\n",
        "# Input data files are available in the read-only \"../input/\" directory\n",
        "# For example, running this (by clicking run or pressing Shift+Enter) will list all files under the input directory\n",
        "\n",
        "import os\n",
        "for dirname, _, filenames in os.walk('/kaggle/input'):\n",
        "    for filename in filenames:\n",
        "        print(os.path.join(dirname, filename))\n",
        "\n",
        "# You can write up to 20GB to the current directory (/kaggle/working/) that gets preserved as output when you create a version using \"Save & Run All\"\n",
        "# You can also write temporary files to /kaggle/temp/, but they won't be saved outside of the current session"
      ],
      "metadata": {
        "_uuid": "8f2839f25d086af736a60e9eeb907d3b93b6e0e5",
        "_cell_guid": "b1076dfc-b9ad-4769-8c92-a6c4dae69d19",
        "execution": {
          "iopub.status.busy": "2024-07-12T21:17:00.473153Z",
          "iopub.execute_input": "2024-07-12T21:17:00.473548Z",
          "iopub.status.idle": "2024-07-12T21:17:00.482768Z",
          "shell.execute_reply.started": "2024-07-12T21:17:00.473515Z",
          "shell.execute_reply": "2024-07-12T21:17:00.481612Z"
        },
        "trusted": true,
        "id": "gfJo1KhQBDY7",
        "outputId": "057941a3-beeb-4ebc-dd76-29f336a45b49"
      },
      "execution_count": null,
      "outputs": [
        {
          "name": "stdout",
          "text": "/kaggle/input/hyundaikialadacars/Cars.csv\n",
          "output_type": "stream"
        }
      ]
    },
    {
      "cell_type": "code",
      "source": [
        "data  = pd.read_csv('/kaggle/input/hyundaikialadacars/Cars.csv', delimiter=';')"
      ],
      "metadata": {
        "execution": {
          "iopub.status.busy": "2024-07-12T21:17:10.635783Z",
          "iopub.execute_input": "2024-07-12T21:17:10.636159Z",
          "iopub.status.idle": "2024-07-12T21:17:10.660087Z",
          "shell.execute_reply.started": "2024-07-12T21:17:10.636128Z",
          "shell.execute_reply": "2024-07-12T21:17:10.659244Z"
        },
        "trusted": true,
        "id": "6hhxFpiDBDY9"
      },
      "execution_count": null,
      "outputs": []
    },
    {
      "cell_type": "code",
      "source": [
        "data.head(10)"
      ],
      "metadata": {
        "execution": {
          "iopub.status.busy": "2024-07-12T21:18:35.053948Z",
          "iopub.execute_input": "2024-07-12T21:18:35.054796Z",
          "iopub.status.idle": "2024-07-12T21:18:35.067092Z",
          "shell.execute_reply.started": "2024-07-12T21:18:35.054762Z",
          "shell.execute_reply": "2024-07-12T21:18:35.065946Z"
        },
        "trusted": true,
        "id": "-7a7CMFyBDY-",
        "outputId": "c5cc3af4-5348-4609-bf02-99f971c44110"
      },
      "execution_count": null,
      "outputs": [
        {
          "execution_count": 17,
          "output_type": "execute_result",
          "data": {
            "text/plain": "    brand  litr  horse  toplivo  korob  type  year  price\n0       0    12     58        1      2     1    30   1305\n1       0     9     36        1      2     1    30   1076\n3       0     9     36        1      2     1    30   1141\n10      0    10     60        3      5     1    29   1197\n11      0    12     50        1      2     1    29   1259\n12      0     9     36        1      2     1    28   1042\n13      0     6     15        1      2     7    28    736\n16      0    12     50        1      2     1    28   1177\n17      0    12     57        1      2     1    28   1032\n18      0    12     50        1      2     1    28   1206",
            "text/html": "<div>\n<style scoped>\n    .dataframe tbody tr th:only-of-type {\n        vertical-align: middle;\n    }\n\n    .dataframe tbody tr th {\n        vertical-align: top;\n    }\n\n    .dataframe thead th {\n        text-align: right;\n    }\n</style>\n<table border=\"1\" class=\"dataframe\">\n  <thead>\n    <tr style=\"text-align: right;\">\n      <th></th>\n      <th>brand</th>\n      <th>litr</th>\n      <th>horse</th>\n      <th>toplivo</th>\n      <th>korob</th>\n      <th>type</th>\n      <th>year</th>\n      <th>price</th>\n    </tr>\n  </thead>\n  <tbody>\n    <tr>\n      <th>0</th>\n      <td>0</td>\n      <td>12</td>\n      <td>58</td>\n      <td>1</td>\n      <td>2</td>\n      <td>1</td>\n      <td>30</td>\n      <td>1305</td>\n    </tr>\n    <tr>\n      <th>1</th>\n      <td>0</td>\n      <td>9</td>\n      <td>36</td>\n      <td>1</td>\n      <td>2</td>\n      <td>1</td>\n      <td>30</td>\n      <td>1076</td>\n    </tr>\n    <tr>\n      <th>3</th>\n      <td>0</td>\n      <td>9</td>\n      <td>36</td>\n      <td>1</td>\n      <td>2</td>\n      <td>1</td>\n      <td>30</td>\n      <td>1141</td>\n    </tr>\n    <tr>\n      <th>10</th>\n      <td>0</td>\n      <td>10</td>\n      <td>60</td>\n      <td>3</td>\n      <td>5</td>\n      <td>1</td>\n      <td>29</td>\n      <td>1197</td>\n    </tr>\n    <tr>\n      <th>11</th>\n      <td>0</td>\n      <td>12</td>\n      <td>50</td>\n      <td>1</td>\n      <td>2</td>\n      <td>1</td>\n      <td>29</td>\n      <td>1259</td>\n    </tr>\n    <tr>\n      <th>12</th>\n      <td>0</td>\n      <td>9</td>\n      <td>36</td>\n      <td>1</td>\n      <td>2</td>\n      <td>1</td>\n      <td>28</td>\n      <td>1042</td>\n    </tr>\n    <tr>\n      <th>13</th>\n      <td>0</td>\n      <td>6</td>\n      <td>15</td>\n      <td>1</td>\n      <td>2</td>\n      <td>7</td>\n      <td>28</td>\n      <td>736</td>\n    </tr>\n    <tr>\n      <th>16</th>\n      <td>0</td>\n      <td>12</td>\n      <td>50</td>\n      <td>1</td>\n      <td>2</td>\n      <td>1</td>\n      <td>28</td>\n      <td>1177</td>\n    </tr>\n    <tr>\n      <th>17</th>\n      <td>0</td>\n      <td>12</td>\n      <td>57</td>\n      <td>1</td>\n      <td>2</td>\n      <td>1</td>\n      <td>28</td>\n      <td>1032</td>\n    </tr>\n    <tr>\n      <th>18</th>\n      <td>0</td>\n      <td>12</td>\n      <td>50</td>\n      <td>1</td>\n      <td>2</td>\n      <td>1</td>\n      <td>28</td>\n      <td>1206</td>\n    </tr>\n  </tbody>\n</table>\n</div>"
          },
          "metadata": {}
        }
      ]
    },
    {
      "cell_type": "code",
      "source": [
        "data.duplicated().sum()"
      ],
      "metadata": {
        "execution": {
          "iopub.status.busy": "2024-07-12T21:17:20.209518Z",
          "iopub.execute_input": "2024-07-12T21:17:20.210178Z",
          "iopub.status.idle": "2024-07-12T21:17:20.228553Z",
          "shell.execute_reply.started": "2024-07-12T21:17:20.210144Z",
          "shell.execute_reply": "2024-07-12T21:17:20.225308Z"
        },
        "trusted": true,
        "id": "RmOj1UX-BDY-",
        "outputId": "8656c20e-e5ba-4ddd-dfad-68660f6d3577"
      },
      "execution_count": null,
      "outputs": [
        {
          "execution_count": 9,
          "output_type": "execute_result",
          "data": {
            "text/plain": "1166"
          },
          "metadata": {}
        }
      ]
    },
    {
      "cell_type": "code",
      "source": [
        "data = data.drop_duplicates()"
      ],
      "metadata": {
        "execution": {
          "iopub.status.busy": "2024-07-12T21:17:23.090701Z",
          "iopub.execute_input": "2024-07-12T21:17:23.091457Z",
          "iopub.status.idle": "2024-07-12T21:17:23.101871Z",
          "shell.execute_reply.started": "2024-07-12T21:17:23.091418Z",
          "shell.execute_reply": "2024-07-12T21:17:23.100961Z"
        },
        "trusted": true,
        "id": "6DqGfJodBDY_"
      },
      "execution_count": null,
      "outputs": []
    },
    {
      "cell_type": "code",
      "source": [
        "data.info()"
      ],
      "metadata": {
        "execution": {
          "iopub.status.busy": "2024-07-12T21:18:28.977372Z",
          "iopub.execute_input": "2024-07-12T21:18:28.977778Z",
          "iopub.status.idle": "2024-07-12T21:18:28.988814Z",
          "shell.execute_reply.started": "2024-07-12T21:18:28.977746Z",
          "shell.execute_reply": "2024-07-12T21:18:28.987786Z"
        },
        "trusted": true,
        "id": "ftaBRSPtBDZA",
        "outputId": "87422c95-3958-460c-b259-bedc90b2bf82"
      },
      "execution_count": null,
      "outputs": [
        {
          "name": "stdout",
          "text": "<class 'pandas.core.frame.DataFrame'>\nIndex: 2477 entries, 0 to 3642\nData columns (total 8 columns):\n #   Column   Non-Null Count  Dtype\n---  ------   --------------  -----\n 0   brand    2477 non-null   int64\n 1   litr     2477 non-null   int64\n 2   horse    2477 non-null   int64\n 3   toplivo  2477 non-null   int64\n 4   korob    2477 non-null   int64\n 5   type     2477 non-null   int64\n 6   year     2477 non-null   int64\n 7   price    2477 non-null   int64\ndtypes: int64(8)\nmemory usage: 174.2 KB\n",
          "output_type": "stream"
        }
      ]
    },
    {
      "cell_type": "code",
      "source": [
        "unique_values = data['type'].unique()\n",
        "print(unique_values)"
      ],
      "metadata": {
        "execution": {
          "iopub.status.busy": "2024-07-12T21:18:03.323687Z",
          "iopub.execute_input": "2024-07-12T21:18:03.324402Z",
          "iopub.status.idle": "2024-07-12T21:18:03.329436Z",
          "shell.execute_reply.started": "2024-07-12T21:18:03.324372Z",
          "shell.execute_reply": "2024-07-12T21:18:03.328627Z"
        },
        "trusted": true,
        "id": "Su9xQKzYBDZA",
        "outputId": "3cbd3ef8-4d52-4e62-d3e1-d2f11c437db4"
      },
      "execution_count": null,
      "outputs": [
        {
          "name": "stdout",
          "text": "['внедорожник' 'седан' 'минивэн' 'хэтчбек' 'универсал' 'купе' 'type'\n 'лифтбек' 'компактвэн' 'фургон' 'пикап']\n",
          "output_type": "stream"
        }
      ]
    },
    {
      "cell_type": "code",
      "source": [
        "from sklearn.preprocessing import OrdinalEncoder, OneHotEncoder, StandardScaler\n",
        "from sklearn.compose import ColumnTransformer\n",
        "\n",
        "cat_columns = list(data.select_dtypes(include='object').columns)\n",
        "\n",
        "column_transformer = ColumnTransformer([('ordinal_encoder', OrdinalEncoder(handle_unknown='use_encoded_value', unknown_value=-1), cat_columns)],\n",
        "                  remainder='passthrough')"
      ],
      "metadata": {
        "execution": {
          "iopub.status.busy": "2024-07-12T20:21:23.89289Z",
          "iopub.execute_input": "2024-07-12T20:21:23.893295Z",
          "iopub.status.idle": "2024-07-12T20:21:23.900128Z",
          "shell.execute_reply.started": "2024-07-12T20:21:23.893262Z",
          "shell.execute_reply": "2024-07-12T20:21:23.898773Z"
        },
        "trusted": true,
        "id": "3OCjWe3RBDZB"
      },
      "execution_count": null,
      "outputs": []
    },
    {
      "cell_type": "code",
      "source": [
        "from sklearn.preprocessing import LabelEncoder\n",
        "label_encoder = LabelEncoder()\n",
        "\n",
        "cat_columns = list(data.select_dtypes(include='object').columns)\n",
        "for one in cat_columns:\n",
        "    data[one] = label_encoder.fit_transform(data[one])"
      ],
      "metadata": {
        "execution": {
          "iopub.status.busy": "2024-07-12T21:18:21.586045Z",
          "iopub.execute_input": "2024-07-12T21:18:21.586416Z",
          "iopub.status.idle": "2024-07-12T21:18:22.142783Z",
          "shell.execute_reply.started": "2024-07-12T21:18:21.586382Z",
          "shell.execute_reply": "2024-07-12T21:18:22.141896Z"
        },
        "trusted": true,
        "id": "a--_wuJdBDZC"
      },
      "execution_count": null,
      "outputs": []
    },
    {
      "cell_type": "code",
      "source": [
        "Y = data[\"price\"]\n",
        "X = data.drop([\"price\"], axis=1)"
      ],
      "metadata": {
        "execution": {
          "iopub.status.busy": "2024-07-12T21:19:13.561282Z",
          "iopub.execute_input": "2024-07-12T21:19:13.561711Z",
          "iopub.status.idle": "2024-07-12T21:19:13.569818Z",
          "shell.execute_reply.started": "2024-07-12T21:19:13.561673Z",
          "shell.execute_reply": "2024-07-12T21:19:13.568505Z"
        },
        "trusted": true,
        "id": "sG1JkRI-BDZC"
      },
      "execution_count": null,
      "outputs": []
    },
    {
      "cell_type": "code",
      "source": [
        "from sklearn.model_selection import train_test_split\n",
        "X_train, X_test, Y_train, Y_test = train_test_split(X, Y, test_size = 0.2, random_state = 11)"
      ],
      "metadata": {
        "execution": {
          "iopub.status.busy": "2024-07-12T21:19:17.542543Z",
          "iopub.execute_input": "2024-07-12T21:19:17.5433Z",
          "iopub.status.idle": "2024-07-12T21:19:17.644088Z",
          "shell.execute_reply.started": "2024-07-12T21:19:17.543269Z",
          "shell.execute_reply": "2024-07-12T21:19:17.642853Z"
        },
        "trusted": true,
        "id": "wlRXiv9iBDZD"
      },
      "execution_count": null,
      "outputs": []
    },
    {
      "cell_type": "code",
      "source": [
        "from sklearn.neighbors import KNeighborsClassifier  # метод ближайших соседей\n",
        "\n",
        "knn = KNeighborsClassifier() # создаём образец класса\n",
        "knn.fit(X_train, Y_train) # тренеруем выборку\n",
        "\n",
        "Y_train_predict = knn.predict(X_train) # предсказание на тренировочной выборке\n",
        "Y_test_predict = knn.predict(X_test) # предсказание на тестовой выборке, даём новые данные и проверяем как хорошо обучили\n",
        "\n",
        "from sklearn.metrics import mean_squared_log_error # RMSLE\n",
        "error1 = mean_squared_log_error(Y_test, Y_test_predict)\n",
        "print(error1)"
      ],
      "metadata": {
        "execution": {
          "iopub.status.busy": "2024-07-12T21:30:59.715161Z",
          "iopub.execute_input": "2024-07-12T21:30:59.715827Z",
          "iopub.status.idle": "2024-07-12T21:30:59.858176Z",
          "shell.execute_reply.started": "2024-07-12T21:30:59.715794Z",
          "shell.execute_reply": "2024-07-12T21:30:59.857156Z"
        },
        "trusted": true,
        "id": "3yCTkQxGBDZD",
        "outputId": "90fadcbb-6baf-4b48-8f8a-91aa69aa1d1f"
      },
      "execution_count": null,
      "outputs": [
        {
          "name": "stdout",
          "text": "0.779787573825513\n",
          "output_type": "stream"
        }
      ]
    },
    {
      "cell_type": "code",
      "source": [
        "from sklearn.metrics import mean_absolute_error # MAE\n",
        "error2 = mean_absolute_error(Y_test, Y_test_predict)\n",
        "print(error2)"
      ],
      "metadata": {
        "execution": {
          "iopub.status.busy": "2024-07-12T21:30:54.08276Z",
          "iopub.execute_input": "2024-07-12T21:30:54.083628Z",
          "iopub.status.idle": "2024-07-12T21:30:54.089127Z",
          "shell.execute_reply.started": "2024-07-12T21:30:54.083591Z",
          "shell.execute_reply": "2024-07-12T21:30:54.087995Z"
        },
        "trusted": true,
        "id": "1qu8YGTtBDZE",
        "outputId": "3e69d07e-5276-4796-98b7-db6ce7812273"
      },
      "execution_count": null,
      "outputs": [
        {
          "name": "stdout",
          "text": "218.5625\n",
          "output_type": "stream"
        }
      ]
    },
    {
      "cell_type": "code",
      "source": [
        "from xgboost import XGBRegressor\n",
        "from sklearn.metrics import mean_squared_error\n",
        "\n",
        "# Создание и обучение модели\n",
        "model = XGBRegressor()\n",
        "model.fit(X_train, Y_train)\n",
        "\n",
        "# Предсказание на тестовой выборке\n",
        "Y_pred = model.predict(X_test)\n",
        "r2 = r2_score(Y_test, Y_pred)\n",
        "print(f'R^2 Score: {r2}')\n",
        "\n",
        "# Оценка качества модели\n",
        "mse = mean_squared_error(Y_test, Y_pred)\n",
        "print(f'Mean Squared Error: {mse}')\n",
        "error2 = mean_absolute_error(Y_test, Y_pred)\n",
        "print(error2)\n",
        "error1 = mean_squared_log_error(Y_test, Y_pred)\n",
        "print(error1)"
      ],
      "metadata": {
        "execution": {
          "iopub.status.busy": "2024-07-12T21:29:57.624892Z",
          "iopub.execute_input": "2024-07-12T21:29:57.625272Z",
          "iopub.status.idle": "2024-07-12T21:29:57.711279Z",
          "shell.execute_reply.started": "2024-07-12T21:29:57.625241Z",
          "shell.execute_reply": "2024-07-12T21:29:57.710201Z"
        },
        "trusted": true,
        "id": "49oasm4nBDZE",
        "outputId": "5c3c54d6-b674-4b80-d463-d938dd8bdf92"
      },
      "execution_count": null,
      "outputs": [
        {
          "name": "stdout",
          "text": "R^2 Score: 0.5197620747028687\nMean Squared Error: 81707.36935608283\n179.73894228473787\n0.38967211956667785\n",
          "output_type": "stream"
        }
      ]
    },
    {
      "cell_type": "code",
      "source": [
        "from sklearn.linear_model import LinearRegression\n",
        "from sklearn.metrics import mean_squared_error, r2_score\n",
        "\n",
        "# Создаем объект модели линейной регрессии\n",
        "model = LinearRegression()\n",
        "\n",
        "# Обучаем модель на обучающем наборе\n",
        "model.fit(X_train, Y_train)\n",
        "\n",
        "# Делаем предсказания на тестовом наборе\n",
        "Y_predict = model.predict(X_test)\n",
        "\n",
        "# Оцениваем качество модели\n",
        "mse = mean_squared_error(Y_test, Y_predict)\n",
        "r2 = r2_score(Y_test, Y_predict)\n",
        "\n",
        "print(f'Mean Squared Error: {mse}')\n",
        "print(f'R^2 Score: {r2}')\n",
        "error2 = mean_absolute_error(Y_test, Y_predict)\n",
        "print(error2)\n",
        "error1 = mean_squared_log_error(Y_test, Y_predict)\n",
        "print(error1)"
      ],
      "metadata": {
        "execution": {
          "iopub.status.busy": "2024-07-12T21:19:48.984054Z",
          "iopub.execute_input": "2024-07-12T21:19:48.984742Z",
          "iopub.status.idle": "2024-07-12T21:19:49.018726Z",
          "shell.execute_reply.started": "2024-07-12T21:19:48.984709Z",
          "shell.execute_reply": "2024-07-12T21:19:49.017539Z"
        },
        "trusted": true,
        "id": "OhYGlKJPBDZE",
        "outputId": "301b7c56-e076-460f-8979-4523fe2dc640"
      },
      "execution_count": null,
      "outputs": [
        {
          "name": "stdout",
          "text": "Mean Squared Error: 132654.2029885531\nR^2 Score: 0.2203202755489938\n310.6413824272798\n0.6115109135856818\n",
          "output_type": "stream"
        }
      ]
    },
    {
      "cell_type": "code",
      "source": [
        "from sklearn.ensemble import RandomForestRegressor\n",
        "model = RandomForestRegressor(n_estimators=100, random_state=42)\n",
        "model.fit(X_train, Y_train)\n",
        "\n",
        "# Предсказание и оценка качества модели\n",
        "y_pred = model.predict(X_test)\n",
        "print(f'Mean Squared Error: {mean_squared_error(Y_test, y_pred)}')\n",
        "print(f'Mean Absolute Error: {mean_absolute_error(Y_test, y_pred)}')\n",
        "print(f'R^2 Score: {r2_score(Y_test, y_pred)}')\n",
        "\n",
        "joblib.dump(model, 'model.pkl')"
      ],
      "metadata": {
        "execution": {
          "iopub.status.busy": "2024-07-12T22:06:29.517555Z",
          "iopub.execute_input": "2024-07-12T22:06:29.518442Z",
          "iopub.status.idle": "2024-07-12T22:06:29.950015Z",
          "shell.execute_reply.started": "2024-07-12T22:06:29.518404Z",
          "shell.execute_reply": "2024-07-12T22:06:29.949001Z"
        },
        "trusted": true,
        "id": "-XM0-spbBDZF",
        "outputId": "2dceda4e-bb2e-4a36-ae7f-d31c6e57c83b"
      },
      "execution_count": null,
      "outputs": [
        {
          "name": "stdout",
          "text": "Mean Squared Error: 80685.85470683187\nMean Absolute Error: 178.14685161433823\nR^2 Score: 0.5257660628337189\n",
          "output_type": "stream"
        },
        {
          "execution_count": 35,
          "output_type": "execute_result",
          "data": {
            "text/plain": "['model.pkl']"
          },
          "metadata": {}
        }
      ]
    }
  ]
}